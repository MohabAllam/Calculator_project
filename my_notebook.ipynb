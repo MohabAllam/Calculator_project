{
 "cells": [
  {
   "cell_type": "markdown",
   "id": "ca887e76",
   "metadata": {},
   "source": [
    "### Create the Summation function"
   ]
  },
  {
   "cell_type": "code",
   "execution_count": 1,
   "id": "c7f33119",
   "metadata": {},
   "outputs": [
    {
     "data": {
      "text/plain": [
       "15"
      ]
     },
     "execution_count": 1,
     "metadata": {},
     "output_type": "execute_result"
    }
   ],
   "source": [
    "def summ(x, y):\n",
    "    return x + y\n",
    "\n",
    "summ(10, 5)"
   ]
  },
  {
   "cell_type": "markdown",
   "id": "175e9858",
   "metadata": {},
   "source": [
    "### Create the Subtaction function"
   ]
  },
  {
   "cell_type": "code",
   "execution_count": null,
   "id": "8b1beedf",
   "metadata": {},
   "outputs": [],
   "source": []
  }
 ],
 "metadata": {
  "kernelspec": {
   "display_name": "test",
   "language": "python",
   "name": "python3"
  },
  "language_info": {
   "codemirror_mode": {
    "name": "ipython",
    "version": 3
   },
   "file_extension": ".py",
   "mimetype": "text/x-python",
   "name": "python",
   "nbconvert_exporter": "python",
   "pygments_lexer": "ipython3",
   "version": "3.10.18"
  }
 },
 "nbformat": 4,
 "nbformat_minor": 5
}
