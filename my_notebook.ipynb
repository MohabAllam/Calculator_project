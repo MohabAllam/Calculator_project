{
 "cells": [
  {
   "cell_type": "markdown",
   "id": "ca887e76",
   "metadata": {},
   "source": [
    "### Create the Summation function"
   ]
  },
  {
   "cell_type": "code",
   "execution_count": null,
   "id": "c7f33119",
   "metadata": {},
   "outputs": [],
   "source": []
  },
  {
   "cell_type": "markdown",
   "id": "175e9858",
   "metadata": {},
   "source": [
    "### Create the Subtaction function"
   ]
  },
  {
   "cell_type": "code",
   "execution_count": 2,
   "id": "8b1beedf",
   "metadata": {},
   "outputs": [
    {
     "data": {
      "text/plain": [
       "5"
      ]
     },
     "execution_count": 2,
     "metadata": {},
     "output_type": "execute_result"
    }
   ],
   "source": [
    "def subtract(x, y):\n",
    "\n",
    "    return x - y\n",
    "\n",
    "subtract(10, 5)"
   ]
  }
 ],
 "metadata": {
  "kernelspec": {
   "display_name": "test",
   "language": "python",
   "name": "python3"
  },
  "language_info": {
   "name": "python",
   "version": "3.10.18"
  }
 },
 "nbformat": 4,
 "nbformat_minor": 5
}
